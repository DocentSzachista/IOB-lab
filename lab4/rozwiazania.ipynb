{
 "cells": [
  {
   "cell_type": "code",
   "execution_count": 1,
   "metadata": {},
   "outputs": [],
   "source": [
    "import cv2\n",
    "from matplotlib import pyplot\n",
    "import numpy as np\n",
    "from scipy.fftpack import dct\n",
    "from scipy.fftpack import idct\n",
    "import struct\n",
    "import zlib"
   ]
  },
  {
   "cell_type": "markdown",
   "metadata": {},
   "source": [
    "# Zadanie 1"
   ]
  },
  {
   "cell_type": "code",
   "execution_count": 5,
   "metadata": {},
   "outputs": [],
   "source": [
    "#\n",
    "# PPM file header\n",
    "#\n",
    "ppm_ascii_header = 'P3 30 30 255 '  \n",
    "ppm_binary_header = 'P6 30 30 255 '  # TODO: implemen\n",
    "\n",
    "#\n",
    "# Image data\n",
    "#\n",
    "#image = numpy.array([], dtype=numpy.uint8)  \n",
    "image = np.full((30, 30, 3), [255, 0, 0], dtype='uint8')\n",
    "\n",
    "#\n",
    "# Save the PPM image as an ASCII file\n",
    "#\n",
    "with open('lab4-ascii.ppm', 'w') as fh:\n",
    "    fh.write(ppm_ascii_header)\n",
    "    image.tofile(fh, sep=' ')\n",
    "    fh.write('\\n')\n",
    "\n",
    "#\n",
    "# Save the PPM image as a binary file\n",
    "#\n",
    "with open('lab4-binary.ppm', 'wb') as fh:\n",
    "    fh.write(bytearray(ppm_binary_header, 'ascii'))\n",
    "    image.tofile(fh)"
   ]
  },
  {
   "cell_type": "code",
   "execution_count": 6,
   "metadata": {},
   "outputs": [
    {
     "data": {
      "text/plain": [
       "<matplotlib.image.AxesImage at 0x7f3ea0420d60>"
      ]
     },
     "execution_count": 6,
     "metadata": {},
     "output_type": "execute_result"
    },
    {
     "data": {
      "image/png": "[encoded data removed]",
      "text/plain": [
       "<Figure size 432x288 with 1 Axes>"
      ]
     },
     "metadata": {
      "needs_background": "light"
     },
     "output_type": "display_data"
    }
   ],
   "source": [
    "#\n",
    "# Display image\n",
    "#\n",
    "image_from_file = cv2.imread('lab4-ascii.ppm')\n",
    "pyplot.imshow(cv2.cvtColor(image_from_file, cv2.COLOR_BGR2RGB))"
   ]
  },
  {
   "cell_type": "code",
   "execution_count": 7,
   "metadata": {},
   "outputs": [
    {
     "data": {
      "text/plain": [
       "<matplotlib.image.AxesImage at 0x7f3ea0397430>"
      ]
     },
     "execution_count": 7,
     "metadata": {},
     "output_type": "execute_result"
    },
    {
     "data": {
      "image/png": "[encoded data removed]",
      "text/plain": [
       "<Figure size 432x288 with 1 Axes>"
      ]
     },
     "metadata": {
      "needs_background": "light"
     },
     "output_type": "display_data"
    }
   ],
   "source": [
    "#\n",
    "# Display image\n",
    "#\n",
    "image_from_file_2 = cv2.imread('lab4-binary.ppm')\n",
    "pyplot.imshow(cv2.cvtColor(image_from_file_2, cv2.COLOR_BGR2RGB))\n",
    "\n",
    "\n"
   ]
  },
  {
   "cell_type": "markdown",
   "metadata": {},
   "source": [
    "# Zadanie 2"
   ]
  },
  {
   "cell_type": "code",
   "execution_count": 386,
   "metadata": {},
   "outputs": [],
   "source": [
    "ppm_ascii_header = 'P3 224 16 255 '\n",
    "\n",
    "image = np.linspace( [0, 0, 0], [0, 0, 255], 32, dtype=np.uint8, endpoint=False)\n",
    "image = np.concatenate(\n",
    "    (image, np.linspace( [0, 0, 255], [0, 255, 255], 32, dtype=np.uint8, endpoint=False)))\n",
    "image = np.concatenate(\n",
    "    (image, np.linspace( [0, 255, 255], [0, 255, 0], 32, dtype=np.uint8, endpoint=False)))\n",
    "image = np.concatenate(\n",
    "    (image, np.linspace( [0, 255, 0], [255, 255, 0], 32, dtype=np.uint8, endpoint=False)))\n",
    "image = np.concatenate(\n",
    "    (image, np.linspace( [255, 255, 0], [255, 0, 0], 32, dtype=np.uint8, endpoint=False)))\n",
    "image = np.concatenate(\n",
    "    (image, np.linspace( [255, 0, 0], [255, 0, 255], 32, dtype=np.uint8, endpoint=False)))\n",
    "image = np.concatenate(\n",
    "    (image, np.linspace( [255, 0, 255], [255, 255, 255], 32, dtype=np.uint8)))\n",
    "\n",
    "\n",
    "with open('lab4-rainbow.ppm', 'w') as fh:\n",
    "     fh.write(ppm_ascii_header)\n",
    "     for i in range(16):\n",
    "         image.tofile(fh, sep=' ')\n",
    "         fh.write('\\n')\n",
    "\n"
   ]
  },
  {
   "cell_type": "code",
   "execution_count": 387,
   "metadata": {},
   "outputs": [
    {
     "data": {
      "text/plain": [
       "<matplotlib.image.AxesImage at 0x7fce0804deb0>"
      ]
     },
     "execution_count": 387,
     "metadata": {},
     "output_type": "execute_result"
    },
    {
     "data": {
      "image/png": "[encoded data removed]",
      "text/plain": [
       "<Figure size 432x288 with 1 Axes>"
      ]
     },
     "metadata": {
      "needs_background": "light"
     },
     "output_type": "display_data"
    }
   ],
   "source": [
    "#\n",
    "# Display image\n",
    "#\n",
    "\n",
    "image_from_file = cv2.imread('lab4-rainbow.ppm')\n",
    "pyplot.imshow(cv2.cvtColor(image_from_file, cv2.COLOR_BGR2RGB))"
   ]
  },
  {
   "cell_type": "markdown",
   "metadata": {},
   "source": [
    "# Zadanie 3"
   ]
  },
  {
   "cell_type": "code",
   "execution_count": 388,
   "metadata": {},
   "outputs": [],
   "source": [
    "#\n",
    "# Image data\n",
    "#\n",
    "#image = numpy.array([[255,   0,   0], [  0, 255,  0]],\n",
    "#                    dtype=numpy.uint8)  \n",
    "#image = np.full((10, 10, 3), [255, 0, 0], dtype='uint8')\n",
    "#\n",
    "# Construct signature\n",
    "#\n",
    "png_file_signature = b'\\x89PNG\\x0D\\x0A\\x1A\\x0A' \n",
    "\n",
    "#\n",
    "# Construct header\n",
    "#\n",
    "header_id = b'IHDR'  \n",
    "#                 |  wysokosc     |   szerokosc|bpp|RGB|DEF|filter|Interlance\n",
    "header_content = b'\\x00\\x00\\x00\\xE0\\x00\\x00\\x00\\x10\\x08\\x02\\x00\\x00\\x00'  \n",
    "header_size = struct.pack('!I', len(header_content))\n",
    "header_crc =  struct.pack('!I', zlib.crc32(header_id+header_content))\n",
    "png_file_header = header_size + header_id + header_content + header_crc\n",
    "\n",
    "#\n",
    "# Construct data\n",
    "#\n",
    "data_id = b'IDAT'  # TODO: implement\n",
    "data_content = zlib.compress(b''.join([b'\\x00' + bytes(image) for i in range(16)]))\n",
    "data_size = struct.pack('!I', len(data_content))  # TODO: implement\n",
    "data_crc = struct.pack('!I', zlib.crc32(data_id + data_content))\n",
    "png_file_data = data_size + data_id + data_content + data_crc\n",
    "\n",
    "#\n",
    "# Consruct end\n",
    "#\n",
    "end_id = b'IEND'\n",
    "end_content = b''\n",
    "end_size = struct.pack('!I', len(end_content))\n",
    "end_crc = struct.pack('!I', zlib.crc32(end_id + end_content))\n",
    "png_file_end = end_size + end_id + end_content + end_crc\n",
    "\n",
    "#\n",
    "# Save the PNG image as a binary file\n",
    "#\n",
    "with open('lab4.png', 'wb') as fh:\n",
    "    fh.write(png_file_signature)\n",
    "    fh.write(png_file_header)\n",
    "    fh.write(png_file_data)\n",
    "    fh.write(png_file_end)"
   ]
  },
  {
   "cell_type": "code",
   "execution_count": 389,
   "metadata": {},
   "outputs": [
    {
     "data": {
      "text/plain": [
       "<matplotlib.image.AxesImage at 0x7fce07fc13d0>"
      ]
     },
     "execution_count": 389,
     "metadata": {},
     "output_type": "execute_result"
    },
    {
     "data": {
      "image/png": "[encoded data removed]",
      "text/plain": [
       "<Figure size 432x288 with 1 Axes>"
      ]
     },
     "metadata": {
      "needs_background": "light"
     },
     "output_type": "display_data"
    }
   ],
   "source": [
    "#\n",
    "# Display image\n",
    "#\n",
    "image_from_file = cv2.imread('lab4.png')\n",
    "pyplot.imshow(cv2.cvtColor(image_from_file, cv2.COLOR_BGR2RGB))"
   ]
  },
  {
   "cell_type": "markdown",
   "metadata": {},
   "source": [
    "# Funkcje pomocnicze do zadań 4 i 5"
   ]
  },
  {
   "cell_type": "code",
   "execution_count": 390,
   "metadata": {},
   "outputs": [],
   "source": [
    "#\n",
    "# 2d Discrete Cosinus Transform\n",
    "#\n",
    "def dct2(array):\n",
    "    return dct(dct(array, axis=0, norm='ortho'), axis=1, norm='ortho')\n",
    "\n",
    "\n",
    "def idct2(array):\n",
    "    return idct(idct(array, axis=0, norm='ortho'), axis=1, norm='ortho')\n",
    "\n",
    "\n",
    "#\n",
    "# Calculate quantisation matrices\n",
    "#\n",
    "# Based on: https://www.hdm-stuttgart.de/~maucher/Python/MMCodecs/html/jpegUpToQuant.html\n",
    "#           #step-3-and-4-discrete-cosinus-transform-and-quantisation\n",
    "#\n",
    "_QY = np.array([[16, 11, 10, 16, 24, 40, 51, 61],\n",
    "                   [12, 12, 14, 19, 26, 48, 60, 55],\n",
    "                   [14, 13, 16, 24, 40, 57, 69, 56],\n",
    "                   [14, 17, 22, 29, 51, 87, 80, 62],\n",
    "                   [18, 22, 37, 56, 68, 109, 103, 77],\n",
    "                   [24, 35, 55, 64, 81, 104, 113, 92],\n",
    "                   [49, 64, 78, 87, 103, 121, 120, 101],\n",
    "                   [72, 92, 95, 98, 112, 100, 103, 99]])\n",
    "\n",
    "_QC = np.array([[17, 18, 24, 47, 99, 99, 99, 99],\n",
    "                   [18, 21, 26, 66, 99, 99, 99, 99],\n",
    "                   [24, 26, 56, 99, 99, 99, 99, 99],\n",
    "                   [47, 66, 99, 99, 99, 99, 99, 99],\n",
    "                   [99, 99, 99, 99, 99, 99, 99, 99],\n",
    "                   [99, 99, 99, 99, 99, 99, 99, 99],\n",
    "                   [99, 99, 99, 99, 99, 99, 99, 99],\n",
    "                   [99, 99, 99, 99, 99, 99, 99, 99]])\n",
    "\n",
    "\n",
    "def _scale(QF):\n",
    "    if QF < 50 and QF >= 1:\n",
    "        scale = np.floor(5000 / QF)\n",
    "    elif QF < 100:\n",
    "        scale = 200 - 2 * QF\n",
    "    else:\n",
    "        raise ValueError('Quality Factor must be in the range [1..99]')\n",
    "\n",
    "    scale = scale / 100.0\n",
    "    return scale\n",
    "\n",
    "\n",
    "def QY(QF=85):\n",
    "    return _QY * _scale(QF)\n",
    "\n",
    "\n",
    "def QC(QF=85):\n",
    "    return _QC * _scale(QF)"
   ]
  },
  {
   "cell_type": "markdown",
   "metadata": {},
   "source": [
    "# Zadania 4 i 5"
   ]
  },
  {
   "cell_type": "code",
   "execution_count": 391,
   "metadata": {},
   "outputs": [
    {
     "name": "stdout",
     "output_type": "stream",
     "text": [
      "Dlugosc bez probkowania: 5532\n",
      "Dlugosc z probkowaniem co 2: 3771\n"
     ]
    }
   ],
   "source": [
    "#user-defined functions\n",
    "def convert_8x8_to_channel(blocks, width):\n",
    "    step = int(width / 8)\n",
    "    rows = []\n",
    "    for i in range(0, len(blocks), step):\n",
    "        rows.append(np.concatenate( blocks[i:i+step], axis=1))\n",
    "    channel = np.concatenate(rows, axis=0)\n",
    "    return channel\n",
    "def zig_zag(block_of_image) -> list:\n",
    "    # setup of helper variables\n",
    "    n = x = y = 0\n",
    "    zig_zag_vector = np.zeros(64, dtype=np.uint8)\n",
    "    # main loop \n",
    "    while n < 64 :\n",
    "        #moving left\n",
    "        while x > -1 and y <8:\n",
    "            zig_zag_vector[n] = block_of_image[x , y]\n",
    "            x-=1\n",
    "            y+=1\n",
    "            n+=1\n",
    "        x+=1\n",
    "        if y == 8:\n",
    "            y-=1\n",
    "            x+=1\n",
    "        #moving right\n",
    "        while y > -1 and x <8:\n",
    "            zig_zag_vector[n] = block_of_image[x, y]\n",
    "            y-=1\n",
    "            x+=1\n",
    "            n+=1\n",
    "        y+=1\n",
    "        if x == 8:\n",
    "            x-=1 \n",
    "            y+=1\n",
    "    return zig_zag_vector\n",
    "def downsample(image_data, sample_rate=2):\n",
    "    CR = image_data[0::sample_rate,0::sample_rate,1]\n",
    "    CB = image_data[0::sample_rate,0::sample_rate,2]\n",
    "    Y  = image_data[0::,0::,0]\n",
    "    return CR, CB, Y\n",
    "def produce_blocks( channel_CR, channel_CB):\n",
    "    CR_blocks = []\n",
    "    CB_blocks = []\n",
    "    for i in range(0, channel_CR.shape[0], 8):\n",
    "        for j in range(0, channel_CR.shape[1], 8):\n",
    "            CR_blocks.append(channel_CR[i:i + 8, j:j + 8])\n",
    "            CB_blocks.append(channel_CB[i:i + 8, j:j + 8])\n",
    "    return CR_blocks, CB_blocks \n",
    "\n",
    "#\n",
    "# 0. Image data\n",
    "#\n",
    "# DONE TODO: implement (zad. 4)\n",
    "image_data =np.copy(image_from_file)\n",
    "#\n",
    "# 1. Convert RGB to YCbCr\n",
    "#\n",
    "# DONE TODO: implement (zad. 4)\n",
    "image_data = cv2.cvtColor(image_data, cv2.COLOR_BGR2YCrCb)\n",
    "\n",
    "width = image_data.shape[1]\n",
    "height =  image_data.shape[0]\n",
    "xxxx = image_data.shape[2]\n",
    "# print(width, height, xxxx)\n",
    "#\n",
    "# 2. Downsampling on Cb and Cr channels\n",
    "#\n",
    "CR_0, CB_0, Y = downsample(image_data, sample_rate=1)\n",
    "CR_2, CB_2, Y = downsample(image_data, sample_rate=2)\n",
    "\n",
    "\n",
    "width_0, height_0 = CR_0.shape\n",
    "width_2, height_2 = CR_2.shape\n",
    "#\n",
    "# 3. Produce 8x8 blocks\n",
    "#\n",
    "# ??? TODO: implement (zad. 4)\n",
    "blocks = (width * height) // 64\n",
    "\n",
    "y_blocks= []\n",
    "\n",
    "for i in range(0, Y.shape[0], 8):\n",
    "    for j in range(0, Y.shape[1], 8):\n",
    "        y_blocks.append(  Y[i:i + 8, j:j + 8])\n",
    "\n",
    "CR_0_blocks, CB_0_blocks = produce_blocks(CR_0, CB_0)\n",
    "\n",
    "CR_2_blocks, CB_2_blocks= produce_blocks(CR_2, CB_2)\n",
    "\n",
    "\n",
    "\n",
    "\n",
    "\n",
    "\n",
    "#\n",
    "# 7. Zig-zag\n",
    "#\n",
    "\n",
    "Y_zig_zag_blocks =  np.asarray([ zig_zag(y_blocks[x]) for x in range(len(y_blocks)) ])\n",
    "\n",
    "CR_0_zig_zag_blocks = np.asarray([ zig_zag(CR_0_blocks[x]) for x in range(len(CR_0_blocks))])\n",
    "CB_0_zig_zag_blocks = np.asarray([ zig_zag(CB_0_blocks[x]) for x in range(len(CB_0_blocks))])\n",
    "\n",
    "CR_2_zig_zag_blocks = np.asarray([ zig_zag(CR_2_blocks[x]) for x in range(len(CR_2_blocks))])\n",
    "CB_2_zig_zag_blocks = np.asarray([ zig_zag(CB_2_blocks[x]) for x in range(len(CB_2_blocks))])\n",
    "\n",
    "\n",
    "\n",
    "\n",
    "#\n",
    "# 8. Flatten, concatenate, compress and calculate the size -- how many bytes?\n",
    "#\n",
    "# TODO: implement (zad. 4)\n",
    "\n",
    "# flattened :D\n",
    "def compress(Y, CR, CB):\n",
    "    concat = np.concatenate( (Y.flatten(), CR.flatten(), CB.flatten()), axis=0 )\n",
    "    compress = zlib.compress(concat)\n",
    "    return len(str(compress))\n",
    "\n",
    "\n",
    "compress_0 =  compress(Y_zig_zag_blocks, CR_0_zig_zag_blocks, CB_0_zig_zag_blocks)\n",
    "compress_2 =  compress(Y_zig_zag_blocks, CR_2_zig_zag_blocks, CB_2_zig_zag_blocks)\n",
    "\n",
    "print(f\"Dlugosc bez probkowania: {compress_0}\")\n",
    "print(f\"Dlugosc z probkowaniem co 2: {compress_2}\") \n",
    "# print(f\"Dlugosc z probkowaniem co 4: {len(str(compress_4))}\")\n",
    "\n",
    "#\n",
    "# 7'. Undo Zig Zag\n",
    "#\n",
    "# We can skip it in this exercise! We did Zig Zag only for analysis in step 8.\n",
    "# You can continue with result from step 6. instead of implementing undo here.\n",
    "#\n",
    "\n",
    "#\n",
    "# 6'. Nothing to do here   ¯\\_(ツ)_/¯\n",
    "#\n",
    "# No conversion is really needed here, just proceed to the next step.\n",
    "#\n",
    "\n",
    "#\n",
    "# 5'. Reverse division by quantisation matrix -- multiply\n",
    "#\n",
    "# TODO: implement (zad. 5)\n",
    "\n",
    "#\n",
    "# 4'. Reverse DCT\n",
    "#\n",
    "# TODO: implement (zad. 5)\n",
    "\n",
    "#\n",
    "# 3'. Combine 8x8 blocks to original image\n",
    "#\n",
    "y_channel_reforged = convert_8x8_to_channel(y_blocks, width)\n",
    "CR_2 = convert_8x8_to_channel(CR_2_blocks, width)\n",
    "CB_2 = convert_8x8_to_channel(CB_2_blocks, width)\n",
    "#  height, width = CR_channel_reforged.shape\n",
    "\n",
    "#\n",
    "# 2'. Upsampling on Cb and Cr channels\n",
    "#\n",
    "image_0 = np.copy(image_data)\n",
    "image_2 = np.copy(image_data)\n",
    "image_2[:,:,0] = y_channel_reforged\n",
    "image_4 = np.copy(image_data)\n",
    "\n",
    "# bez kompresji \n",
    "for row in range(0, width_0):\n",
    "    for column in range(height_0):\n",
    "        image_0[row, column, 1] = CR_0[row,column]\n",
    "        image_0[row, column, 2] = CB_0[row,column]\n",
    "\n",
    "# co drugie\n",
    "for row in range(0, width_2 ):\n",
    "      for column in range(0, height_2):\n",
    "         image_2[2*row+1, 2*column, 1] = CR_2[row, column]\n",
    "         image_2[2*row+1, 2*column, 2] = CB_2[row, column]\n",
    "\n",
    "         image_2[2*row, 2*column+1, 1] = CR_2[row, column]\n",
    "         image_2[2*row, 2*column+1, 2] = CB_2[row, column]\n",
    "        \n",
    "         image_2[2*row+1, 2*column+1, 1] = CR_2[row, column]\n",
    "         image_2[2*row+1, 2*column+1, 2] = CB_2[row, column]\n",
    "\n",
    "#\n",
    "# 1'. Convert YCbCr to RGB\n",
    "#\n",
    "image_0 =  cv2.cvtColor(image_0, cv2.COLOR_YCrCb2RGB)\n",
    "image_2 =  cv2.cvtColor(image_2, cv2.COLOR_YCrCb2RGB)\n",
    "#\n",
    "# 0'. Save the decoded image -- as PPM or PNG\n",
    "#\n",
    "# to co prostsze :P \n",
    "ppm_ascii_header = 'P3 224 16 255 '\n",
    "\n",
    "\n",
    "with open('lab4-po-kompresji-i-dekompresji-0.ppm', 'w') as file:\n",
    "     file.write(ppm_ascii_header)\n",
    "     image_0.tofile(file, sep = ' ')\n",
    "with open('lab4-po-kompresji-i-dekompresji-2.ppm', 'w') as file:\n",
    "     file.write(ppm_ascii_header)\n",
    "     image_2.tofile(file, sep = ' ')\n",
    "\n",
    "     \n"
   ]
  },
  {
   "cell_type": "code",
   "execution_count": 392,
   "metadata": {},
   "outputs": [
    {
     "name": "stderr",
     "output_type": "stream",
     "text": [
      "imread_('lab4-po-kompresji-i-dekompresji-2.ppm'): can't read data: OpenCV(4.5.5) /io/opencv/modules/imgcodecs/src/bitstrm.cpp:110: error: (-2:Unspecified error) Unexpected end of input stream in function 'readBlock'\n",
      "\n"
     ]
    },
    {
     "ename": "error",
     "evalue": "OpenCV(4.5.5) /io/opencv/modules/imgproc/src/color.cpp:182: error: (-215:Assertion failed) !_src.empty() in function 'cvtColor'\n",
     "output_type": "error",
     "traceback": [
      "\u001b[0;31m---------------------------------------------------------------------------\u001b[0m",
      "\u001b[0;31merror\u001b[0m                                     Traceback (most recent call last)",
      "\u001b[1;32m/home/docent/Desktop/image_eng/lab4/rozwiazania.ipynb Cell 16'\u001b[0m in \u001b[0;36m<module>\u001b[0;34m\u001b[0m\n\u001b[1;32m      <a href='vscode-notebook-cell:/home/docent/Desktop/image_eng/lab4/rozwiazania.ipynb#ch0000015?line=0'>1</a>\u001b[0m \u001b[39m#\u001b[39;00m\n\u001b[1;32m      <a href='vscode-notebook-cell:/home/docent/Desktop/image_eng/lab4/rozwiazania.ipynb#ch0000015?line=1'>2</a>\u001b[0m \u001b[39m# Display image\u001b[39;00m\n\u001b[1;32m      <a href='vscode-notebook-cell:/home/docent/Desktop/image_eng/lab4/rozwiazania.ipynb#ch0000015?line=2'>3</a>\u001b[0m \u001b[39m#\u001b[39;00m\n\u001b[1;32m      <a href='vscode-notebook-cell:/home/docent/Desktop/image_eng/lab4/rozwiazania.ipynb#ch0000015?line=3'>4</a>\u001b[0m image_from_file \u001b[39m=\u001b[39m cv2\u001b[39m.\u001b[39mimread(\u001b[39m'\u001b[39m\u001b[39mlab4-po-kompresji-i-dekompresji-2.ppm\u001b[39m\u001b[39m'\u001b[39m)\n\u001b[0;32m----> <a href='vscode-notebook-cell:/home/docent/Desktop/image_eng/lab4/rozwiazania.ipynb#ch0000015?line=4'>5</a>\u001b[0m pyplot\u001b[39m.\u001b[39mimshow(cv2\u001b[39m.\u001b[39;49mcvtColor(image_from_file, cv2\u001b[39m.\u001b[39;49mCOLOR_BGR2RGB))\n",
      "\u001b[0;31merror\u001b[0m: OpenCV(4.5.5) /io/opencv/modules/imgproc/src/color.cpp:182: error: (-215:Assertion failed) !_src.empty() in function 'cvtColor'\n"
     ]
    }
   ],
   "source": [
    "#\n",
    "# Display image\n",
    "#\n",
    "image_from_file = cv2.imread('lab4-po-kompresji-i-dekompresji-2.ppm')\n",
    "pyplot.imshow(cv2.cvtColor(image_from_file, cv2.COLOR_BGR2RGB))"
   ]
  },
  {
   "cell_type": "markdown",
   "metadata": {},
   "source": [
    "# Obserwacje z zadań 4 i 5"
   ]
  },
  {
   "cell_type": "code",
   "execution_count": null,
   "metadata": {},
   "outputs": [],
   "source": []
  }
 ],
 "metadata": {
  "kernelspec": {
   "display_name": "Python 3 (ipykernel)",
   "language": "python",
   "name": "python3"
  },
  "language_info": {
   "codemirror_mode": {
    "name": "ipython",
    "version": 3
   },
   "file_extension": ".py",
   "mimetype": "text/x-python",
   "name": "python",
   "nbconvert_exporter": "python",
   "pygments_lexer": "ipython3",
   "version": "3.8.10"
  }
 },
 "nbformat": 4,
 "nbformat_minor": 4
}
