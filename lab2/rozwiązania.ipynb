{
 "cells": [
  {
   "cell_type": "markdown",
   "metadata": {},
   "source": [
    "# Zadanie 1, 2\n",
    "\n",
    "### Co zrobiono\n",
    "- Setup stanowsika do pracy (instalacja srodowiska, wymaganych bibliotek, odpalenie przykladowego programu - ten o to notebook) \n",
    "- komenda pip freeze > requirementx txt zapisuje zaleznosci w pliku requirements.txt (jest ich nienaturalnie duzo bo na cale laby mam jedno srodowisko wirtualne - normalnie powinien byc okreslony tylko jupyter i cowsay)"
   ]
  },
  {
   "cell_type": "code",
   "execution_count": 2,
   "metadata": {},
   "outputs": [
    {
     "name": "stdout",
     "output_type": "stream",
     "text": [
      "  _______________________\n",
      "| Lets infuse some flames |\n",
      "  =======================\n",
      "                         \\\n",
      "                          \\\n",
      "                           \\\n",
      "                            \\\n",
      "                                                  / \\\\  //\\\\\n",
      "                                   |\\\\___/|      /   \\\\//  \\\\\\\\\n",
      "                                   /0  0  \\\\__  /    //  | \\\\ \\\\\n",
      "                                  /     /  \\\\/_/    //   |  \\\\  \\\\\n",
      "                                  \\@_^_\\@'/   \\\\/_   //    |   \\\\   \\\\\n",
      "                                  //_^_/     \\\\/_ //     |    \\\\    \\\\\n",
      "                               ( //) |        \\\\///      |     \\\\     \\\\\n",
      "                             ( / /) _|_ /   )  //       |      \\\\     _\\\\\n",
      "                           ( // /) '/,_ _ _/  ( ; -.    |    _ _\\\\.-~        .-~~~^-.\n",
      "                         (( / / )) ,-{        _      `-.|.-~-.           .~         `.\n",
      "                        (( // / ))  '/\\\\      /                 ~-. _ .-~      .-~^-.  \\\\\n",
      "                        (( /// ))      `.   {            }                   /      \\\\  \\\\\n",
      "                         (( / ))     .----~-.\\\\        \\\\-'                 .~         \\\\  `. \\\\^-.\n",
      "                                    ///.----..>        \\\\             _ -~             `.  ^-`  ^-_\n",
      "                                      ///-._ _ _ _ _ _ _}^ - - - - ~                     ~-- ,.-~\n",
      "                                                                                         /.-~\n"
     ]
    }
   ],
   "source": [
    "import cowsay\n",
    "cowsay.dragon(\"Lets infuse some flames\")"
   ]
  },
  {
   "cell_type": "markdown",
   "metadata": {},
   "source": [
    "# Zadanie 3 \n",
    "\n",
    "### Co zrobiono:\n",
    "- zaimportowanie z modulu math funkcje sin\n",
    "- utworzenie funkcji, ktora na wejscie przyjmuje 2 parametry (plik z danymi, plik gdzie maja zostac zwrocone wyniki)\n",
    "- za pomoca funkcji open i list comprehension funkcja oblicza wartosci sinusa dla parametrow z pliku a nastepnie zapisuje je w pliku wynikowym (domyslnie jest to output.txt) "
   ]
  },
  {
   "cell_type": "code",
   "execution_count": 8,
   "metadata": {},
   "outputs": [],
   "source": [
    "from math import sin\n",
    "def count_sin_from_file(dataset: str, output = \"output.txt\" ):\n",
    "    data_outcomes = []\n",
    "    with open(dataset, 'r') as file:\n",
    "        data_outcomes = [str(sin(float(x)))+\"\\n\" for x in file.readlines()]\n",
    "    with open(output, 'w') as file_to_write:\n",
    "        file_to_write.writelines(data_outcomes)\n",
    "count_sin_from_file(\"input.txt\")"
   ]
  },
  {
   "cell_type": "markdown",
   "metadata": {},
   "source": [
    "# Zadanie 4,5\n",
    "\n",
    "### utworz klase Product i Cart\n",
    "- Product zawiera pola name, price, quantity\n",
    "- Cart zawiera liste produktow (ma miec jakas domyslna ustawiona)\n",
    "### W klasie Cart dodac metody add(product_name) i delete(product_name)\n",
    "- jezeli produkt jest w liscie to zmien wartosc quantity\n",
    "- jezeli go nie ma to nic sie nie dzieje\n",
    "### dodanie metody total price ktora zwroci wartosc wszystkich produktow (cena * liczba)\n",
    "\n",
    "### Impelementacje \\_\\_str\\_\\_ , \\_\\_len\\_\\_, \\_\\_iter\\_\\_ i \\_\\_next\\_\\_"
   ]
  },
  {
   "cell_type": "code",
   "execution_count": 41,
   "metadata": {},
   "outputs": [],
   "source": [
    "class Product:\n",
    "    \n",
    "    def __init__(self, name : str, price: float, quantity: int):\n",
    "        self.name= name\n",
    "        self.price = price\n",
    "        self.quantity = quantity\n",
    "    def __str__(self)->str:\n",
    "        return f\"Nazwa: {self.name} Cena: {self.price}\"\n",
    "class Cart:\n",
    "    \n",
    "    def _default_products()->list:\n",
    "        return [\n",
    "            Product(\"awokado\", 12.52, 10),\n",
    "            Product(\"Jablko\", 4.5, 5),\n",
    "            Product(\"Gruszka\",3.2, 5 )\n",
    "            ]\n",
    "    \n",
    "    def __init__(self, products = _default_products()  ):\n",
    "        self.product_list = products\n",
    "\n",
    "    def _add(self, product_name : str)-> bool:\n",
    "        product_to_increment= next((product for product in self.product_list if product.name in product_name), -1 )\n",
    "        if product_to_increment != -1 :\n",
    "            product_to_increment.quantity += 1\n",
    "            return True\n",
    "        return False\n",
    "    \n",
    "    def _remove(self, product_name :str) -> bool:\n",
    "        product_to_increment= next((product for product in self.product_list if product.name in product_name), -1 )\n",
    "        if product_to_increment != -1 and product_to_increment.quantity>=0  :\n",
    "            product_to_increment.quantity -= 1\n",
    "            return True\n",
    "        return False\n",
    "\n",
    "    #iteratory\n",
    "    def __iter__(self) :\n",
    "        self.n = 0\n",
    "        return self\n",
    "    \n",
    "    def __next__(self) :\n",
    "        if self.n < len(self.product_list):\n",
    "            res = self.product_list[self.n]\n",
    "            self.n += 1\n",
    "            return res\n",
    "        else: \n",
    "            raise StopIteration\n",
    "            \n",
    "    # wykorzystanie generator expression\n",
    "    def total_price(self)-> float:\n",
    "        return sum(product.price * product.quantity for product in self.product_list)\n",
    "    \n",
    "    def __len__ (self)-> int:\n",
    "        return  sum(x.quantity for x in self.product_list)\n",
    "    # section for user inputs \n",
    "    \n",
    "    def add_interface(self)->None:\n",
    "        product_name = input(\"Podaj nazwe istniejacego produktu do dodania\")\n",
    "        if self._add(product_name) :\n",
    "            print(\"Pomyslnie dodano\")\n",
    "        else: \n",
    "            print(\"Produktu nie ma w koszyku\")\n",
    "\n",
    "    def remove_interface(self)->None:\n",
    "        product_name = input(\"Podaj nazwe istniejacego produktu do usuniecia\")\n",
    "        if self._remove(product_name ):\n",
    "            print(\"Pomyslnie usunieto element z koszyka\")\n",
    "        else: \n",
    "            print(\"Produktu nie ma w koszyku\")\n",
    "    \n",
    "    def __str__(self)->str:\n",
    "        return f\"Zawartosc koszyka {[str(x)+' ilosc '+str(x.quantity) for x in self.product_list]}\"\n",
    "\n",
    "\n"
   ]
  },
  {
   "cell_type": "markdown",
   "metadata": {},
   "source": [
    "# Zadanie 4 i 5 kontynuacja\n",
    "- wydruk przykladowy funkcji add , remove, total_cost"
   ]
  },
  {
   "cell_type": "code",
   "execution_count": 40,
   "metadata": {},
   "outputs": [
    {
     "name": "stdout",
     "output_type": "stream",
     "text": [
      "Pomyslnie dodano\n",
      "Zawartosc koszyka ['Nazwa: awokado Cena: 12.52 ilosc 11', 'Nazwa: Jablko Cena: 4.5 ilosc 5', 'Nazwa: Gruszka Cena: 3.2 ilosc 5']\n",
      "Sumaryczna ilosc produktow 21\n",
      "Koszt: 176.22\n",
      "Pomyslnie usunieto element z koszyka\n",
      "Zawartosc koszyka ['Nazwa: awokado Cena: 12.52 ilosc 10', 'Nazwa: Jablko Cena: 4.5 ilosc 5', 'Nazwa: Gruszka Cena: 3.2 ilosc 5']\n",
      "Koszt: 163.7\n",
      "Sumaryczna ilosc produktow 20\n"
     ]
    }
   ],
   "source": [
    "cart = Cart()\n",
    "cart.add_interface()\n",
    "print(cart)\n",
    "print(f\"Sumaryczna ilosc produktow { len(cart)}\")\n",
    "print(f\"Koszt: {cart.total_price()}\")\n",
    "cart.remove_interface()\n",
    "\n",
    "print(cart)\n",
    "print(f\"Koszt: {cart.total_price()}\")\n",
    "\n",
    "print(f\"Sumaryczna ilosc produktow { len(cart)}\")"
   ]
  },
  {
   "cell_type": "markdown",
   "metadata": {},
   "source": [
    "# Zadanie 5\n",
    "przykladowe zastosowanie metod z zadania 5"
   ]
  },
  {
   "cell_type": "code",
   "execution_count": 42,
   "metadata": {},
   "outputs": [
    {
     "name": "stdout",
     "output_type": "stream",
     "text": [
      "Nazwa: awokado Cena: 12.52\n",
      "Nazwa: Jablko Cena: 4.5\n",
      "Nazwa: Gruszka Cena: 3.2\n"
     ]
    }
   ],
   "source": [
    "#\n",
    "# tu umieść kod\n",
    "#\n",
    "carts = Cart()\n",
    "for cart1 in carts:\n",
    "    print(cart1)"
   ]
  },
  {
   "cell_type": "code",
   "execution_count": null,
   "metadata": {},
   "outputs": [],
   "source": []
  }
 ],
 "metadata": {
  "kernelspec": {
   "display_name": "Python 3 (ipykernel)",
   "language": "python",
   "name": "python3"
  },
  "language_info": {
   "codemirror_mode": {
    "name": "ipython",
    "version": 3
   },
   "file_extension": ".py",
   "mimetype": "text/x-python",
   "name": "python",
   "nbconvert_exporter": "python",
   "pygments_lexer": "ipython3",
   "version": "3.8.10"
  }
 },
 "nbformat": 4,
 "nbformat_minor": 4
}
